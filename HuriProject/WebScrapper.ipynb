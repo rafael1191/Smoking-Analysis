{
 "cells": [
  {
   "cell_type": "code",
   "execution_count": 13,
   "id": "ecf1fafa-868a-4f77-b1e6-dece763d0b0f",
   "metadata": {},
   "outputs": [
    {
     "name": "stdout",
     "output_type": "stream",
     "text": [
      "h-lung-cancer.zip: Skipping, found more recently modified local copy (use --force to force download)\n"
     ]
    }
   ],
   "source": [
    "import os\n",
    "from pathlib import Path\n",
    "import json\n",
    "\n",
    "class Scraper:\n",
    "  \n",
    "    def __init__(self):\n",
    "        pass\n",
    "    \n",
    "    def CollectData(self):\n",
    "        \n",
    "        #Create API Key\n",
    "        try:\n",
    "            homeDir = os.path.expanduser(\"~\")+r'/.kaggle'\n",
    "            os.makedirs(homeDir, exist_ok=True)\n",
    "            api_key = {\"username\":\"rafaeldicker\",\"key\":\"679546337863ee8fe9a57709ddd71af8\"}\n",
    "            with open (homeDir+r'\\kaggle.json', 'w') as handl:\n",
    "                json.dump(api_key,handl)\n",
    "            handl.close()\n",
    "            os.chmod(homeDir+'\\kaggle.json', 600)\n",
    "            \n",
    "        except:\n",
    "            print(\"API key already exists\")\n",
    "        \n",
    "        #Download the DB with API call\n",
    "        import kaggle\n",
    "        !kaggle datasets download -d h13380436001/h-lung-cancer\n",
    "        \n",
    "        # Unzip to csv\n",
    "        from zipfile import ZipFile\n",
    "        zf = ZipFile('h-lung-cancer.zip')\n",
    "        zf.extractall()\n",
    "        zf.close()\n",
    "                \n",
    "class Excellerator(Scraper):\n",
    "  \n",
    "    def __init__(self):\n",
    "        \n",
    "        #Calls the Scraper init \n",
    "        super().__init__()\n",
    "\n",
    "    def collectExc(self):\n",
    "        \n",
    "        self.CollectData()\n",
    "\n",
    "\n",
    "if __name__ == \"__main__\":\n",
    "    \n",
    "    #Calls the excellerator init\n",
    "    excellerator = Excellerator()\n",
    "    \n",
    "    excellerator.collectExc()"
   ]
  },
  {
   "cell_type": "code",
   "execution_count": null,
   "id": "1fc91cfd-b178-401b-a0c8-4f3d8ecf5f34",
   "metadata": {},
   "outputs": [],
   "source": []
  }
 ],
 "metadata": {
  "kernelspec": {
   "display_name": "Python 3 (ipykernel)",
   "language": "python",
   "name": "python3"
  },
  "language_info": {
   "codemirror_mode": {
    "name": "ipython",
    "version": 3
   },
   "file_extension": ".py",
   "mimetype": "text/x-python",
   "name": "python",
   "nbconvert_exporter": "python",
   "pygments_lexer": "ipython3",
   "version": "3.9.7"
  }
 },
 "nbformat": 4,
 "nbformat_minor": 5
}
